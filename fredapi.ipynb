{
 "cells": [
  {
   "cell_type": "code",
   "execution_count": 2,
   "metadata": {
    "collapsed": true
   },
   "outputs": [],
   "source": [
    "from fredapi import Fred"
   ]
  },
  {
   "cell_type": "code",
   "execution_count": 3,
   "metadata": {
    "collapsed": true
   },
   "outputs": [],
   "source": [
    "fred = Fred(api_key='bf7e372a4731983197a88028a0d6c23c')"
   ]
  },
  {
   "cell_type": "code",
   "execution_count": 16,
   "metadata": {},
   "outputs": [],
   "source": [
    "gdp_data = fred.get_series('GDPC1')\n",
    "gdp_info = fred.get_series_info('GDPC1')"
   ]
  },
  {
   "cell_type": "code",
   "execution_count": 24,
   "metadata": {},
   "outputs": [
    {
     "data": {
      "text/plain": [
       "1947-01-01     1934.471\n",
       "1947-04-01     1932.281\n",
       "1947-07-01     1930.315\n",
       "1947-10-01     1960.705\n",
       "1948-01-01     1989.535\n",
       "1948-04-01     2021.851\n",
       "1948-07-01     2033.155\n",
       "1948-10-01     2035.329\n",
       "1949-01-01     2007.522\n",
       "1949-04-01     2000.788\n",
       "1949-07-01     2022.798\n",
       "1949-10-01     2004.653\n",
       "1950-01-01     2084.559\n",
       "1950-04-01     2147.592\n",
       "1950-07-01     2230.362\n",
       "1950-10-01     2273.435\n",
       "1951-01-01     2304.542\n",
       "1951-04-01     2344.517\n",
       "1951-07-01     2392.808\n",
       "1951-10-01     2398.105\n",
       "1952-01-01     2423.457\n",
       "1952-04-01     2428.516\n",
       "1952-07-01     2446.081\n",
       "1952-10-01     2526.359\n",
       "1953-01-01     2573.372\n",
       "1953-04-01     2593.456\n",
       "1953-07-01     2578.922\n",
       "1953-10-01     2539.786\n",
       "1954-01-01     2528.043\n",
       "1954-04-01     2530.689\n",
       "                ...    \n",
       "2010-04-01    14745.933\n",
       "2010-07-01    14845.458\n",
       "2010-10-01    14939.001\n",
       "2011-01-01    14881.301\n",
       "2011-04-01    14989.555\n",
       "2011-07-01    15021.149\n",
       "2011-10-01    15190.255\n",
       "2012-01-01    15291.035\n",
       "2012-04-01    15362.415\n",
       "2012-07-01    15380.802\n",
       "2012-10-01    15384.254\n",
       "2013-01-01    15491.878\n",
       "2013-04-01    15521.559\n",
       "2013-07-01    15641.336\n",
       "2013-10-01    15793.928\n",
       "2014-01-01    15757.570\n",
       "2014-04-01    15935.825\n",
       "2014-07-01    16139.513\n",
       "2014-10-01    16220.222\n",
       "2015-01-01    16349.970\n",
       "2015-04-01    16460.889\n",
       "2015-07-01    16527.587\n",
       "2015-10-01    16547.619\n",
       "2016-01-01    16571.573\n",
       "2016-04-01    16663.516\n",
       "2016-07-01    16778.148\n",
       "2016-10-01    16851.420\n",
       "2017-01-01    16903.240\n",
       "2017-04-01    17031.085\n",
       "2017-07-01    17169.733\n",
       "Length: 283, dtype: float64"
      ]
     },
     "execution_count": 24,
     "metadata": {},
     "output_type": "execute_result"
    }
   ],
   "source": [
    "gdp_data"
   ]
  },
  {
   "cell_type": "code",
   "execution_count": 17,
   "metadata": {},
   "outputs": [
    {
     "data": {
      "text/plain": [
       "frequency                                                            Quarterly\n",
       "frequency_short                                                              Q\n",
       "id                                                                       GDPC1\n",
       "last_updated                                            2017-11-29 08:51:02-06\n",
       "notes                        BEA Account Code: A191RX  Real gross domestic ...\n",
       "observation_end                                                     2017-07-01\n",
       "observation_start                                                   1947-01-01\n",
       "popularity                                                                  98\n",
       "realtime_end                                                        2017-12-19\n",
       "realtime_start                                                      2017-12-19\n",
       "seasonal_adjustment                            Seasonally Adjusted Annual Rate\n",
       "seasonal_adjustment_short                                                 SAAR\n",
       "title                                              Real Gross Domestic Product\n",
       "units                                         Billions of Chained 2009 Dollars\n",
       "units_short                                                Bil. of Chn. 2009 $\n",
       "dtype: object"
      ]
     },
     "execution_count": 17,
     "metadata": {},
     "output_type": "execute_result"
    }
   ],
   "source": [
    "gdp_info"
   ]
  },
  {
   "cell_type": "code",
   "execution_count": 18,
   "metadata": {
    "collapsed": true
   },
   "outputs": [],
   "source": [
    "sentiment_data = fred.get_series('UMCSENT')\n",
    "sentiment_info = fred.get_series_info('UMCSENT')"
   ]
  },
  {
   "cell_type": "code",
   "execution_count": 23,
   "metadata": {},
   "outputs": [
    {
     "data": {
      "text/plain": [
       "'University of Michigan: Consumer Sentiment'"
      ]
     },
     "execution_count": 23,
     "metadata": {},
     "output_type": "execute_result"
    }
   ],
   "source": [
    "sentiment_info['title']"
   ]
  },
  {
   "cell_type": "code",
   "execution_count": 10,
   "metadata": {},
   "outputs": [
    {
     "data": {
      "text/plain": [
       "1952-11-01      NaN\n",
       "1953-02-01      NaN\n",
       "1953-08-01      NaN\n",
       "1953-11-01      NaN\n",
       "1954-02-01      NaN\n",
       "1954-05-01      NaN\n",
       "1954-11-01      NaN\n",
       "1955-02-01      NaN\n",
       "1955-05-01      NaN\n",
       "1955-11-01      NaN\n",
       "1956-05-01      NaN\n",
       "1956-08-01      NaN\n",
       "1956-11-01      NaN\n",
       "1957-05-01      NaN\n",
       "1957-11-01      NaN\n",
       "1958-02-01      NaN\n",
       "1958-05-01      NaN\n",
       "1958-11-01      NaN\n",
       "1959-05-01      NaN\n",
       "1959-11-01      NaN\n",
       "1960-02-01      NaN\n",
       "1960-05-01      NaN\n",
       "1960-08-01      NaN\n",
       "1960-11-01      NaN\n",
       "1961-02-01      NaN\n",
       "1961-05-01      NaN\n",
       "1961-08-01      NaN\n",
       "1961-11-01      NaN\n",
       "1962-02-01      NaN\n",
       "1962-05-01      NaN\n",
       "              ...  \n",
       "2015-05-01     90.7\n",
       "2015-06-01     96.1\n",
       "2015-07-01     93.1\n",
       "2015-08-01     91.9\n",
       "2015-09-01     87.2\n",
       "2015-10-01     90.0\n",
       "2015-11-01     91.3\n",
       "2015-12-01     92.6\n",
       "2016-01-01     92.0\n",
       "2016-02-01     91.7\n",
       "2016-03-01     91.0\n",
       "2016-04-01     89.0\n",
       "2016-05-01     94.7\n",
       "2016-06-01     93.5\n",
       "2016-07-01     90.0\n",
       "2016-08-01     89.8\n",
       "2016-09-01     91.2\n",
       "2016-10-01     87.2\n",
       "2016-11-01     93.8\n",
       "2016-12-01     98.2\n",
       "2017-01-01     98.5\n",
       "2017-02-01     96.3\n",
       "2017-03-01     96.9\n",
       "2017-04-01     97.0\n",
       "2017-05-01     97.1\n",
       "2017-06-01     95.1\n",
       "2017-07-01     93.4\n",
       "2017-08-01     96.8\n",
       "2017-09-01     95.1\n",
       "2017-10-01    100.7\n",
       "Length: 570, dtype: float64"
      ]
     },
     "execution_count": 10,
     "metadata": {},
     "output_type": "execute_result"
    }
   ],
   "source": [
    "sentiment_data"
   ]
  },
  {
   "cell_type": "code",
   "execution_count": 20,
   "metadata": {
    "collapsed": true
   },
   "outputs": [],
   "source": [
    "unemp_data = fred.get_series('UNRATE')\n",
    "unemp_info = fred.get_series_info('UNRATE')"
   ]
  },
  {
   "cell_type": "code",
   "execution_count": 22,
   "metadata": {},
   "outputs": [
    {
     "data": {
      "text/plain": [
       "frequency                                                              Monthly\n",
       "frequency_short                                                              M\n",
       "id                                                                      UNRATE\n",
       "last_updated                                            2017-12-08 08:41:02-06\n",
       "notes                        The unemployment rate represents the number of...\n",
       "observation_end                                                     2017-11-01\n",
       "observation_start                                                   1948-01-01\n",
       "popularity                                                                  97\n",
       "realtime_end                                                        2017-12-19\n",
       "realtime_start                                                      2017-12-19\n",
       "seasonal_adjustment                                        Seasonally Adjusted\n",
       "seasonal_adjustment_short                                                   SA\n",
       "title                                               Civilian Unemployment Rate\n",
       "units                                                                  Percent\n",
       "units_short                                                                  %\n",
       "dtype: object"
      ]
     },
     "execution_count": 22,
     "metadata": {},
     "output_type": "execute_result"
    }
   ],
   "source": [
    "unemp_info"
   ]
  },
  {
   "cell_type": "code",
   "execution_count": 13,
   "metadata": {},
   "outputs": [
    {
     "data": {
      "text/plain": [
       "1948-01-01    3.4\n",
       "1948-02-01    3.8\n",
       "1948-03-01    4.0\n",
       "1948-04-01    3.9\n",
       "1948-05-01    3.5\n",
       "1948-06-01    3.6\n",
       "1948-07-01    3.6\n",
       "1948-08-01    3.9\n",
       "1948-09-01    3.8\n",
       "1948-10-01    3.7\n",
       "1948-11-01    3.8\n",
       "1948-12-01    4.0\n",
       "1949-01-01    4.3\n",
       "1949-02-01    4.7\n",
       "1949-03-01    5.0\n",
       "1949-04-01    5.3\n",
       "1949-05-01    6.1\n",
       "1949-06-01    6.2\n",
       "1949-07-01    6.7\n",
       "1949-08-01    6.8\n",
       "1949-09-01    6.6\n",
       "1949-10-01    7.9\n",
       "1949-11-01    6.4\n",
       "1949-12-01    6.6\n",
       "1950-01-01    6.5\n",
       "1950-02-01    6.4\n",
       "1950-03-01    6.3\n",
       "1950-04-01    5.8\n",
       "1950-05-01    5.5\n",
       "1950-06-01    5.4\n",
       "             ... \n",
       "2015-06-01    5.3\n",
       "2015-07-01    5.2\n",
       "2015-08-01    5.1\n",
       "2015-09-01    5.0\n",
       "2015-10-01    5.0\n",
       "2015-11-01    5.0\n",
       "2015-12-01    5.0\n",
       "2016-01-01    4.9\n",
       "2016-02-01    4.9\n",
       "2016-03-01    5.0\n",
       "2016-04-01    5.0\n",
       "2016-05-01    4.7\n",
       "2016-06-01    4.9\n",
       "2016-07-01    4.9\n",
       "2016-08-01    4.9\n",
       "2016-09-01    4.9\n",
       "2016-10-01    4.8\n",
       "2016-11-01    4.6\n",
       "2016-12-01    4.7\n",
       "2017-01-01    4.8\n",
       "2017-02-01    4.7\n",
       "2017-03-01    4.5\n",
       "2017-04-01    4.4\n",
       "2017-05-01    4.3\n",
       "2017-06-01    4.4\n",
       "2017-07-01    4.3\n",
       "2017-08-01    4.4\n",
       "2017-09-01    4.2\n",
       "2017-10-01    4.1\n",
       "2017-11-01    4.1\n",
       "Length: 839, dtype: float64"
      ]
     },
     "execution_count": 13,
     "metadata": {},
     "output_type": "execute_result"
    }
   ],
   "source": [
    "unemp_data"
   ]
  },
  {
   "cell_type": "code",
   "execution_count": null,
   "metadata": {
    "collapsed": true
   },
   "outputs": [],
   "source": []
  }
 ],
 "metadata": {
  "kernelspec": {
   "display_name": "Python 3",
   "language": "python",
   "name": "python3"
  },
  "language_info": {
   "codemirror_mode": {
    "name": "ipython",
    "version": 3
   },
   "file_extension": ".py",
   "mimetype": "text/x-python",
   "name": "python",
   "nbconvert_exporter": "python",
   "pygments_lexer": "ipython3",
   "version": "3.6.3"
  }
 },
 "nbformat": 4,
 "nbformat_minor": 2
}
