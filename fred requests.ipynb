{
 "cells": [
  {
   "cell_type": "code",
   "execution_count": 3,
   "metadata": {},
   "outputs": [],
   "source": [
    "import os\n",
    "import sys\n",
    "import xml.etree.ElementTree as ET\n",
    "import urllib.request as url_request\n",
    "import urllib.parse as url_parse\n",
    "import urllib.error as url_error\n",
    "import pandas as pd"
   ]
  },
  {
   "cell_type": "code",
   "execution_count": 4,
   "metadata": {
    "collapsed": true
   },
   "outputs": [],
   "source": [
    "urlopen = url_request.urlopen\n",
    "quote_plus = url_parse.quote_plus\n",
    "urlencode = url_parse.urlencode\n",
    "HTTPError = url_error.HTTPError"
   ]
  },
  {
   "cell_type": "code",
   "execution_count": 16,
   "metadata": {
    "collapsed": true
   },
   "outputs": [],
   "source": [
    "nan_char = '.'"
   ]
  },
  {
   "cell_type": "code",
   "execution_count": 5,
   "metadata": {
    "collapsed": true
   },
   "outputs": [],
   "source": [
    "root_url = 'https://api.stlouisfed.org/fred'"
   ]
  },
  {
   "cell_type": "code",
   "execution_count": 6,
   "metadata": {
    "collapsed": true
   },
   "outputs": [],
   "source": [
    "api_key='bf7e372a4731983197a88028a0d6c23c'"
   ]
  },
  {
   "cell_type": "code",
   "execution_count": 7,
   "metadata": {
    "collapsed": true
   },
   "outputs": [],
   "source": [
    "series_id = 'GDPC1'"
   ]
  },
  {
   "cell_type": "code",
   "execution_count": 8,
   "metadata": {
    "collapsed": true
   },
   "outputs": [],
   "source": [
    "url = \"%s/series/observations?series_id=%s\" % (root_url, series_id)"
   ]
  },
  {
   "cell_type": "code",
   "execution_count": 9,
   "metadata": {},
   "outputs": [
    {
     "data": {
      "text/plain": [
       "'https://api.stlouisfed.org/fred/series/observations?series_id=GDPC1'"
      ]
     },
     "execution_count": 9,
     "metadata": {},
     "output_type": "execute_result"
    }
   ],
   "source": [
    "url"
   ]
  },
  {
   "cell_type": "code",
   "execution_count": 10,
   "metadata": {
    "collapsed": true
   },
   "outputs": [],
   "source": [
    "url += '&api_key=' + api_key"
   ]
  },
  {
   "cell_type": "code",
   "execution_count": 11,
   "metadata": {},
   "outputs": [
    {
     "data": {
      "text/plain": [
       "'https://api.stlouisfed.org/fred/series/observations?series_id=GDPC1&api_key=bf7e372a4731983197a88028a0d6c23c'"
      ]
     },
     "execution_count": 11,
     "metadata": {},
     "output_type": "execute_result"
    }
   ],
   "source": [
    "url"
   ]
  },
  {
   "cell_type": "code",
   "execution_count": 13,
   "metadata": {},
   "outputs": [
    {
     "name": "stdout",
     "output_type": "stream",
     "text": [
      "<Element 'observations' at 0x7f3b82a0acc8>\n"
     ]
    }
   ],
   "source": [
    "try:\n",
    "    response = urlopen(url)\n",
    "    root = ET.fromstring(response.read())\n",
    "except HTTPError as exc:\n",
    "    root = ET.fromstring(exc.read())\n",
    "    raise ValueError(root.get('message'))\n",
    "\n",
    "print(root)"
   ]
  },
  {
   "cell_type": "code",
   "execution_count": 14,
   "metadata": {
    "collapsed": true
   },
   "outputs": [],
   "source": [
    "data = {}"
   ]
  },
  {
   "cell_type": "code",
   "execution_count": 20,
   "metadata": {
    "collapsed": true
   },
   "outputs": [],
   "source": [
    "def parse_datetime(date_str, format='%Y-%m-%d'):\n",
    "    rv = pd.to_datetime(date_str, format=format)\n",
    "    if hasattr(rv, 'to_pydatetime'):\n",
    "        rv = rv.to_pydatetime()\n",
    "    return rv"
   ]
  },
  {
   "cell_type": "code",
   "execution_count": 23,
   "metadata": {},
   "outputs": [
    {
     "name": "stdout",
     "output_type": "stream",
     "text": [
      "1947-01-01     1934.471\n",
      "1947-04-01     1932.281\n",
      "1947-07-01     1930.315\n",
      "1947-10-01     1960.705\n",
      "1948-01-01     1989.535\n",
      "1948-04-01     2021.851\n",
      "1948-07-01     2033.155\n",
      "1948-10-01     2035.329\n",
      "1949-01-01     2007.522\n",
      "1949-04-01     2000.788\n",
      "1949-07-01     2022.798\n",
      "1949-10-01     2004.653\n",
      "1950-01-01     2084.559\n",
      "1950-04-01     2147.592\n",
      "1950-07-01     2230.362\n",
      "1950-10-01     2273.435\n",
      "1951-01-01     2304.542\n",
      "1951-04-01     2344.517\n",
      "1951-07-01     2392.808\n",
      "1951-10-01     2398.105\n",
      "1952-01-01     2423.457\n",
      "1952-04-01     2428.516\n",
      "1952-07-01     2446.081\n",
      "1952-10-01     2526.359\n",
      "1953-01-01     2573.372\n",
      "1953-04-01     2593.456\n",
      "1953-07-01     2578.922\n",
      "1953-10-01     2539.786\n",
      "1954-01-01     2528.043\n",
      "1954-04-01     2530.689\n",
      "                ...    \n",
      "2010-04-01    14745.933\n",
      "2010-07-01    14845.458\n",
      "2010-10-01    14939.001\n",
      "2011-01-01    14881.301\n",
      "2011-04-01    14989.555\n",
      "2011-07-01    15021.149\n",
      "2011-10-01    15190.255\n",
      "2012-01-01    15291.035\n",
      "2012-04-01    15362.415\n",
      "2012-07-01    15380.802\n",
      "2012-10-01    15384.254\n",
      "2013-01-01    15491.878\n",
      "2013-04-01    15521.559\n",
      "2013-07-01    15641.336\n",
      "2013-10-01    15793.928\n",
      "2014-01-01    15757.570\n",
      "2014-04-01    15935.825\n",
      "2014-07-01    16139.513\n",
      "2014-10-01    16220.222\n",
      "2015-01-01    16349.970\n",
      "2015-04-01    16460.889\n",
      "2015-07-01    16527.587\n",
      "2015-10-01    16547.619\n",
      "2016-01-01    16571.573\n",
      "2016-04-01    16663.516\n",
      "2016-07-01    16778.148\n",
      "2016-10-01    16851.420\n",
      "2017-01-01    16903.240\n",
      "2017-04-01    17031.085\n",
      "2017-07-01    17169.733\n",
      "Length: 283, dtype: float64\n"
     ]
    }
   ],
   "source": [
    "for child in root.getchildren():\n",
    "    val = child.get('value')\n",
    "    if val == nan_char:\n",
    "        val = float('NaN')\n",
    "    else:\n",
    "        val = float(val)\n",
    "    data[parse_datetime(child.get('date'))] = val\n",
    "\n",
    "print(pd.Series(data))"
   ]
  },
  {
   "cell_type": "code",
   "execution_count": null,
   "metadata": {
    "collapsed": true
   },
   "outputs": [],
   "source": []
  }
 ],
 "metadata": {
  "kernelspec": {
   "display_name": "Python 3",
   "language": "python",
   "name": "python3"
  },
  "language_info": {
   "codemirror_mode": {
    "name": "ipython",
    "version": 3
   },
   "file_extension": ".py",
   "mimetype": "text/x-python",
   "name": "python",
   "nbconvert_exporter": "python",
   "pygments_lexer": "ipython3",
   "version": "3.6.3"
  }
 },
 "nbformat": 4,
 "nbformat_minor": 2
}
